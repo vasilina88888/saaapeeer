{
  "nbformat": 4,
  "nbformat_minor": 0,
  "metadata": {
    "colab": {
      "provenance": [],
      "authorship_tag": "ABX9TyOkclYRg8Be+B/jJpewqDjy",
      "include_colab_link": true
    },
    "kernelspec": {
      "name": "python3",
      "display_name": "Python 3"
    },
    "language_info": {
      "name": "python"
    }
  },
  "cells": [
    {
      "cell_type": "markdown",
      "metadata": {
        "id": "view-in-github",
        "colab_type": "text"
      },
      "source": [
        "<a href=\"https://colab.research.google.com/github/vasilina88888/saaapeeer/blob/main/Untitled10.ipynb\" target=\"_parent\"><img src=\"https://colab.research.google.com/assets/colab-badge.svg\" alt=\"Open In Colab\"/></a>"
      ]
    },
    {
      "cell_type": "code",
      "source": [
        "!pip install hmmlearn"
      ],
      "metadata": {
        "id": "UQim2hWqKIt2"
      },
      "execution_count": null,
      "outputs": []
    },
    {
      "cell_type": "code",
      "execution_count": null,
      "metadata": {
        "id": "TX1_GVNeJh7Y"
      },
      "outputs": [],
      "source": [
        "apr = pd.read_csv('aaa.csv',encoding = 'utf-8', sep = ',')\n",
        "apr = apr.drop('level_0',axis = 1)\n",
        "apr = apr.drop('index',axis = 1)\n",
        "apr"
      ]
    },
    {
      "cell_type": "code",
      "source": [
        "# Эта ячейка запускается только 1 раз \n",
        "from sklearn.preprocessing import LabelEncoder\n",
        "lb = LabelEncoder()\n",
        "lb.fit(apr.Action)"
      ],
      "metadata": {
        "id": "CfAb7Zi-Jj3G"
      },
      "execution_count": null,
      "outputs": []
    },
    {
      "cell_type": "code",
      "source": [
        "# эта ячейка тоже только 1 раз \n",
        "apraction = lb.transform(apr.Action)"
      ],
      "metadata": {
        "id": "yjvArxGKJpYz"
      },
      "execution_count": null,
      "outputs": []
    },
    {
      "cell_type": "code",
      "source": [
        "# эта ячейка выбирает id и все его действия, то есть образно говоря выбирает одного пользователя, меняя число в квадратных скобках,меняешь пользователя\n",
        "x = apr[apr.id == apr.id.unique()[24]]\n",
        "print(x.shape)\n",
        "y = lb.transform(x.Action)\n",
        "y.shape"
      ],
      "metadata": {
        "id": "cYveSiSVJ243"
      },
      "execution_count": null,
      "outputs": []
    },
    {
      "cell_type": "code",
      "source": [
        "# показывает сколько уникальных действий у юзера\n",
        "len(np.unique(y))"
      ],
      "metadata": {
        "id": "r4x_17rIKBkL"
      },
      "execution_count": null,
      "outputs": []
    },
    {
      "cell_type": "code",
      "source": [
        "from hmmlearn import hmm\n",
        "import numpy as np"
      ],
      "metadata": {
        "id": "m1mIiHbYKJzm"
      },
      "execution_count": null,
      "outputs": []
    },
    {
      "cell_type": "code",
      "source": [
        "# тоже запускается 1 раз\n",
        "from hmmlearn import hmm\n",
        "import numpy as np\n",
        "\n",
        "gm = hmm.GaussianHMM(n_components=32)\n",
        "gm.fit(apraction.reshape(-1, 1))"
      ],
      "metadata": {
        "id": "9-b8TEmmKN4a"
      },
      "execution_count": null,
      "outputs": []
    },
    {
      "cell_type": "code",
      "source": [
        "\n",
        "states = gm.predict(y.reshape(-1, 1))\n",
        "states"
      ],
      "metadata": {
        "id": "5ybr6shjKeeH"
      },
      "execution_count": null,
      "outputs": []
    },
    {
      "cell_type": "code",
      "source": [
        "gm.decode(y.reshape(-1, 1))"
      ],
      "metadata": {
        "id": "AC86DiZLKmv1"
      },
      "execution_count": null,
      "outputs": []
    },
    {
      "cell_type": "code",
      "source": [
        "# подготовка для графика\n",
        "edges = []\n",
        "for i in range(len(states)):\n",
        "  if i != len(states)-1:\n",
        "    edges.append((states[i],states[i+1]))\n",
        "  else:\n",
        "    break"
      ],
      "metadata": {
        "id": "61YXF75fKnsJ"
      },
      "execution_count": null,
      "outputs": []
    },
    {
      "cell_type": "markdown",
      "source": [
        "import matplotlib.pyplot as plt\n",
        "import networkx as nx\n",
        "\n",
        "G = nx.Graph()\n",
        "\n",
        "nodes = np.unique(states)\n",
        "edges = edges\n",
        "\n",
        "G.add_nodes_from(nodes)\n",
        "G.add_edges_from(edges)\n",
        "\n",
        "# рисуем граф и отображаем его\n",
        "nx.draw(G, with_labels=True, font_weight='bold')\n",
        "plt.show()"
      ],
      "metadata": {
        "id": "z1BaaHh9Kzgj"
      }
    },
    {
      "cell_type": "code",
      "source": [],
      "metadata": {
        "id": "ibRo1-yAKSu8"
      },
      "execution_count": null,
      "outputs": []
    }
  ]
}